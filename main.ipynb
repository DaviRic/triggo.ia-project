{
 "cells": [
  {
   "cell_type": "code",
   "execution_count": 8,
   "id": "ae52143d",
   "metadata": {},
   "outputs": [],
   "source": [
    "# -----------------------------------------\n",
    "# Projeto: Análise de dados do E-commerce Brasileiro (Olist)\n",
    "# Etapa: 1 - Preparação dos dados\n",
    "# Objetivo: Importação e explocação inicial dos arquivos csv\n",
    "# Autor: Davi Cruvel\n",
    "# -----------------------------------------\n",
    "\n",
    "# Importação das bibliotecas\n",
    "import pandas as pd\n",
    "import numpy as np\n",
    "import matplotlib.pyplot as plt\n",
    "import seaborn as sns\n",
    "import os\n",
    "\n",
    "pd.set_option('display.max_columns', 100)\n",
    "sns.set(style='whitegrid')\n",
    "\n",
    "# Caminho para onde os arquivos csv estão localizados\n",
    "data_path = \"data\"\n",
    "\n",
    "# Lista de arquivos presentes no dataset\n",
    "csv_files = {\n",
    "    \"customers\": \"olist_customers_dataset.csv\",\n",
    "    \"geolocation\": \"olist_geolocation_dataset.csv\",\n",
    "    \"order_items\": \"olist_order_items_dataset.csv\",\n",
    "    \"order_payments\": \"olist_order_payments_dataset.csv\",\n",
    "    \"order_reviews\": \"olist_order_reviews_dataset.csv\",\n",
    "    \"orders\": \"olist_orders_dataset.csv\",\n",
    "    \"products\": \"olist_products_dataset.csv\",\n",
    "    \"sellers\": \"olist_sellers_dataset.csv\",\n",
    "    \"category_translation\": \"product_category_name_translation.csv\"\n",
    "}"
   ]
  },
  {
   "cell_type": "code",
   "execution_count": null,
   "id": "bb70cd3d",
   "metadata": {},
   "outputs": [
    {
     "data": {
      "text/plain": [
       "'for name, df in dfs.items():\\n    print(f\"\\nVisualizando o dataframe: {name}\")\\n    display(df.head(2))'"
      ]
     },
     "execution_count": 9,
     "metadata": {},
     "output_type": "execute_result"
    }
   ],
   "source": [
    "# Carregamento dos arquivos csv em dataframes\n",
    "dfs = {}\n",
    "for name, file in csv_files.items():\n",
    "    path = os.path.join(data_path, file)\n",
    "    dfs[name] = pd.read_csv(path)\n",
    "    print(f\"'{name}' carregado com {dfs[name].shape[0]} linhas e {dfs[name].shape[1]} colunas.\")\n",
    "\n",
    "# Exibindo as primeiras linhas dos dataframes\n",
    "for name, df in dfs.items():\n",
    "    print(f\"\\nVisualizando o dataframe: {name}\")\n",
    "    display(df.head(2))"
   ]
  },
  {
   "cell_type": "markdown",
   "id": "d652e89c",
   "metadata": {},
   "source": [
    "#### Verificação de valores nulos e duplicatas\n",
    "* O código percorre cada DataFrame\n",
    "* Exibe:\n",
    "    - Quais colunas tem valores nulos;\n",
    "    - Quantas linhas duplicadas existem"
   ]
  },
  {
   "cell_type": "code",
   "execution_count": 10,
   "id": "13e0d8a9",
   "metadata": {},
   "outputs": [
    {
     "name": "stdout",
     "output_type": "stream",
     "text": [
      "Verificação de valores nulos e duplicatas\n",
      "\n",
      "--- CUSTOMERS ---\n",
      "Nenhuma coluna com valores nulos.\n",
      "Nenhuma linha duplicada encontrada.\n",
      "----------------------------------------\n",
      "--- GEOLOCATION ---\n",
      "Nenhuma coluna com valores nulos.\n",
      "261831 linhas duplicadas.\n",
      "----------------------------------------\n",
      "--- ORDER_ITEMS ---\n",
      "Nenhuma coluna com valores nulos.\n",
      "Nenhuma linha duplicada encontrada.\n",
      "----------------------------------------\n",
      "--- ORDER_PAYMENTS ---\n",
      "Nenhuma coluna com valores nulos.\n",
      "Nenhuma linha duplicada encontrada.\n",
      "----------------------------------------\n",
      "--- ORDER_REVIEWS ---\n",
      "Colunas com valores nulos:\n",
      "review_comment_title      87656\n",
      "review_comment_message    58247\n",
      "dtype: int64\n",
      "Nenhuma linha duplicada encontrada.\n",
      "----------------------------------------\n",
      "--- ORDERS ---\n",
      "Colunas com valores nulos:\n",
      "order_approved_at                 160\n",
      "order_delivered_carrier_date     1783\n",
      "order_delivered_customer_date    2965\n",
      "dtype: int64\n",
      "Nenhuma linha duplicada encontrada.\n",
      "----------------------------------------\n",
      "--- PRODUCTS ---\n",
      "Colunas com valores nulos:\n",
      "product_category_name         610\n",
      "product_name_lenght           610\n",
      "product_description_lenght    610\n",
      "product_photos_qty            610\n",
      "product_weight_g                2\n",
      "product_length_cm               2\n",
      "product_height_cm               2\n",
      "product_width_cm                2\n",
      "dtype: int64\n",
      "Nenhuma linha duplicada encontrada.\n",
      "----------------------------------------\n",
      "--- SELLERS ---\n",
      "Nenhuma coluna com valores nulos.\n",
      "Nenhuma linha duplicada encontrada.\n",
      "----------------------------------------\n",
      "--- CATEGORY_TRANSLATION ---\n",
      "Nenhuma coluna com valores nulos.\n",
      "Nenhuma linha duplicada encontrada.\n",
      "----------------------------------------\n"
     ]
    }
   ],
   "source": [
    "def verifica_nulos_e_duplicatas(dfs):\n",
    "    print(\"Verificação de valores nulos e duplicatas\\n\")\n",
    "    for name, df in dfs.items():\n",
    "        print(f\"--- {name.upper()} ---\")\n",
    "\n",
    "        # Valores nulos\n",
    "        nulos = df.isnull().sum()\n",
    "        nulos = nulos[nulos > 0]\n",
    "        if not nulos.empty:\n",
    "            print(\"Colunas com valores nulos:\")\n",
    "            print(nulos)\n",
    "        else:\n",
    "            print(\"Nenhuma coluna com valores nulos.\")\n",
    "        \n",
    "        # Duplicatas\n",
    "        duplicatas = df.duplicated().sum()\n",
    "        if duplicatas > 0:\n",
    "            print(f\"{duplicatas} linhas duplicadas.\")\n",
    "        else:\n",
    "            print(\"Nenhuma linha duplicada encontrada.\")\n",
    "        \n",
    "        print(\"-\"*40)\n",
    "\n",
    "# Executando a função\n",
    "verifica_nulos_e_duplicatas(dfs)"
   ]
  },
  {
   "cell_type": "markdown",
   "id": "cace1daa",
   "metadata": {},
   "source": [
    "#### Tratamento de valores nulos\n",
    "* Tabela 'products' - remover registros com categoria nula\n",
    "* Tabela 'orders' - datas podem ser nulas por cancelamento ou processamento incompleto\n",
    "* A tabela 'orders_review' - os comentários podem ser nulos, pois são opcionais. Logo os nulos podem ser mantidos\n",
    "* As demais tabelas não possuem valores nulos relevantes\n",
    "* Estratégia:\n",
    "    - Manter esses registros, pois refletem o estado real do negócio\n",
    "    - Não serão imputados valores, pois isso afetaria análises de tempo de entrega e predições\n",
    "    - Futuramente pode-se filtrar por pedidos entregues quando necessário"
   ]
  },
  {
   "cell_type": "code",
   "execution_count": null,
   "id": "2ca00524",
   "metadata": {},
   "outputs": [],
   "source": [
    "dfs['products'] = dfs['products'].dropna(subset=['product_category_name'])"
   ]
  },
  {
   "cell_type": "markdown",
   "id": "dbc0061a",
   "metadata": {},
   "source": [
    "#### Vefiricação final"
   ]
  },
  {
   "cell_type": "code",
   "execution_count": null,
   "id": "49478d0a",
   "metadata": {},
   "outputs": [],
   "source": [
    "# -----------------------------------------\n",
    "# Verificação final de valores nulos\n",
    "# -----------------------------------------\n",
    "\n",
    "verifica_nulos_e_duplicatas(dfs)"
   ]
  }
 ],
 "metadata": {
  "kernelspec": {
   "display_name": "triggo.ia",
   "language": "python",
   "name": "python3"
  },
  "language_info": {
   "codemirror_mode": {
    "name": "ipython",
    "version": 3
   },
   "file_extension": ".py",
   "mimetype": "text/x-python",
   "name": "python",
   "nbconvert_exporter": "python",
   "pygments_lexer": "ipython3",
   "version": "3.11.7"
  }
 },
 "nbformat": 4,
 "nbformat_minor": 5
}
